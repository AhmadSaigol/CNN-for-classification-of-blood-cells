{
  "nbformat": 4,
  "nbformat_minor": 0,
  "metadata": {
    "colab": {
      "name": "CNN_Prediction_Code.ipynb",
      "provenance": []
    },
    "kernelspec": {
      "name": "python3",
      "display_name": "Python 3"
    },
    "language_info": {
      "name": "python"
    }
  },
  "cells": [
    {
      "cell_type": "markdown",
      "metadata": {
        "id": "qo-B9xlzspiP"
      },
      "source": [
        "# Importing Necessary Libraries"
      ]
    },
    {
      "cell_type": "code",
      "metadata": {
        "id": "jEa8Qb6Kz_iQ"
      },
      "source": [
        "import numpy as np\n",
        "import pandas as pd\n",
        "import sys\n",
        "import os\n",
        "from PIL import Image as pilimg\n",
        "from matplotlib import pyplot as plt"
      ],
      "execution_count": null,
      "outputs": []
    },
    {
      "cell_type": "markdown",
      "metadata": {
        "id": "O5-e1PGMj6fM"
      },
      "source": [
        "# Visualization"
      ]
    },
    {
      "cell_type": "code",
      "metadata": {
        "id": "1xi1NOe1kYgj"
      },
      "source": [
        "def plot_weights(filters, intt):\n",
        "  '''\n",
        "    Visualize weights in Convolutional Layer\n",
        "\n",
        "    Parameters:\n",
        "\n",
        "      'filters' : numpy array of shape (number_of_filters, channels, rows, cols)\n",
        "        weights associated with Convolution layer which need to be plotted\n",
        "  '''\n",
        "  count =1\n",
        "  #for each filter\n",
        "  for f in range(filters.shape[0]):\n",
        "    \n",
        "    #for each channel\n",
        "    for d in range(filters.shape[1]):\n",
        "      plt.figure(intt)\n",
        "      plt.subplot(filters.shape[0], filters.shape[1], count)\n",
        "      plt.imshow(filters[f,d])\n",
        "      \n",
        "      if not f>0:\n",
        "        plt.title('Channel ' + str(d+1))\n",
        "\n",
        "      if not d > 0:\n",
        "        plt.ylabel('Filter ' + str(f+1)) \n",
        "      \n",
        "      count += 1\n"
      ],
      "execution_count": null,
      "outputs": []
    },
    {
      "cell_type": "markdown",
      "metadata": {
        "id": "zRD2zf5hsuis"
      },
      "source": [
        "# Setting Up Model"
      ]
    },
    {
      "cell_type": "code",
      "metadata": {
        "id": "Ah7aOIHitzaX"
      },
      "source": [
        "def prediction(path):\n",
        "  '''\n",
        "    Displays a table having image, predicted class and its probability as its columns and rows as each image.\n",
        "\n",
        "    Parameters:\n",
        "\n",
        "      'path' : str\n",
        "        path to folder containing the images on which prediction is required\n",
        "      \n",
        "\n",
        "    Notes:\n",
        "\n",
        "      - The function requires model and some helper functions which are obtained from \"Model.npy\" and \"CNN_Training_Code.py\" respectively.\n",
        "        Thus, these two files must be in the same dir as that of this file \"CNN_Prediction_Code.py\".\n",
        "        Furthermore, the names of the files must not be different or the code will break.\n",
        "\n",
        "      - The function expects images to be of \"jpg\" format and of type \"uint8\"\n",
        "  \n",
        "  '''\n",
        " \n",
        "  #check whether directory is provided\n",
        "  if not os.path.isdir(path):\n",
        "    sys.exit(\"Invalid Path provided. The path must be to a valid directory\")\n",
        "\n",
        "  #ignore files that do not end with \".jpg\" \n",
        "  path_to_images = [os.path.join(path, image) for image in os.listdir(path) if image.endswith(\".jpg\")]\n",
        "  noOfImages = len(path_to_images)\n",
        "\n",
        "\n",
        "  #check whether images exists in the directory\n",
        "  if noOfImages == 0:\n",
        "    sys.exit(\"No image found in the directory\")\n",
        "  else:\n",
        "    print((noOfImages), \" Images found\")\n",
        "\n",
        "  #Check whether helper functions file and model exists in the current directory\n",
        "  helper_functions_file = 'CNN_Training_Code.py'\n",
        "  model = 'Model.npy'\n",
        "  \n",
        "  curr_dir = os.getcwd() #current working directory\n",
        "\n",
        "  if model not in os.listdir(curr_dir):\n",
        "    sys.exit('\"Model Not found: Make sure \"Model.npy\" is in the same directory of this file and is named properly. ')\n",
        "  else:\n",
        "    print(\"Model found\")\n",
        "    model = os.path.join (curr_dir, model)\n",
        "\n",
        "  if helper_functions_file not in os.listdir(curr_dir):\n",
        "    sys.exit('\"Helper funcitons file Not found: Make sure \"CNN_Training_Code.py\" is in the same directory of this file and is named properly. ')\n",
        "  else:\n",
        "    print(\"Helper functions file found\") #remove\n",
        "\n",
        "\n",
        "\n",
        "  #Import classes from the helper function\n",
        "  from CNN_Training_Code import Network, Conv, Pool, LeakyReLU, FC, Softmax\n",
        "\n",
        "  #read data from the file in the same order as it was written to it\n",
        "  with open(model, 'rb') as file:\n",
        "    \n",
        "    #read size of input to the network\n",
        "    resize = np.load(file)\n",
        "\n",
        "    #read zero center related data\n",
        "    mean = np.load(file)\n",
        "\n",
        "\n",
        "    #read labels\n",
        "    labels = np.load(file)\n",
        "\n",
        "    #read layers\n",
        "    layers = np.load(file, allow_pickle=True)\n",
        "    \n",
        "    #load parameters and other assiocated data and build each layer\n",
        "    layer_objs =[]\n",
        "\n",
        "    for layer in layers:\n",
        "      \n",
        "\n",
        "      #Convolutional Layer\n",
        "      if layer == 'Conv':\n",
        "         \n",
        "        stride = np.load(file)\n",
        "        zero_padding = np.load(file)\n",
        "        weights = np.load(file)\n",
        "        bias = np.load(file)\n",
        "        \n",
        "        conv = Conv(number_of_filters=weights.shape[0], filter_size=weights.shape[2], stride=stride, zero_padding=zero_padding)\n",
        "        conv.weights = weights\n",
        "        conv.bias = bias\n",
        "\n",
        "        layer_objs.append(conv)\n",
        "\n",
        "\n",
        "      #Pooling Layer\n",
        "      if layer == 'Pool':\n",
        "        \n",
        "        pooling_type =np.load(file)\n",
        "        filter_size = np.load(file)\n",
        "        stride = np.load(file)\n",
        "        zero_padding = np.load(file)\n",
        "\n",
        "        layer_objs.append(Pool(pooling_type=pooling_type, filter_size=filter_size, stride=stride, zero_padding=zero_padding))\n",
        "\n",
        "      #Fully Connected Layer\n",
        "      if layer == 'FC':\n",
        "        \n",
        "        neurons = np.load(file)\n",
        "        fc= FC(neurons)\n",
        "        fc.weights = np.load(file)\n",
        "        fc.bias = np.load(file)\n",
        "\n",
        "        layer_objs.append(fc)\n",
        "      \n",
        "      #LeakyReLU\n",
        "      if layer == 'LeakyReLU':\n",
        "        \n",
        "        layer_objs.append(LeakyReLU())\n",
        "\n",
        "      #Softmax\n",
        "      if layer == 'Softmax':\n",
        "\n",
        "        layer_objs.append(Softmax())\n",
        "\n",
        "\n",
        "  class AD:\n",
        "    pass\n",
        "\n",
        "  #build network\n",
        "  net = Network(layer_objs, 0, 0,  AD())   \n",
        "  net.flag=False\n",
        "  net.eval_metric = None\n",
        "\n",
        "\n",
        "  #build batch of images  \n",
        "  for image in path_to_images:\n",
        "  \n",
        "    #Read image\n",
        "    img = pilimg.open(image)\n",
        "\n",
        "    #Resize image\n",
        "    img =img.resize(resize)\n",
        "      \n",
        "    img = np.asarray(img)\n",
        "    \n",
        "    #map image between 0 and 1\n",
        "    img  = img / 255\n",
        "\n",
        "    #zero center the data\n",
        "    img = img - mean      \n",
        "    \n",
        "    #reshape image to (depth, width, height)\n",
        "    img = np.array([img[:,:,0],img[:,:,1],img[:,:,2]])\n",
        "\n",
        "\n",
        "    net.forward_propagate(img[np.newaxis,...], None, False ) \n",
        "\n",
        "    #indexes of highest values (prediction)\n",
        "    pred_labels=np.where(np.max(net.layers[-1].activations, axis=1) == net.layers[-1].activations )\n",
        "\n",
        "    print(\"the predicted label for image \", image ,\" is \", labels[pred_labels[1]], \"with \", net.layers[-1].activations[pred_labels]*100, \" probability \")\n",
        "\n",
        "    "
      ],
      "execution_count": null,
      "outputs": []
    },
    {
      "cell_type": "markdown",
      "metadata": {
        "id": "YM6n4VBytklH"
      },
      "source": [
        "# Prediction"
      ]
    },
    {
      "cell_type": "code",
      "metadata": {
        "id": "Uv_lVPVc8DlD"
      },
      "source": [
        "#from google.colab import drive\n",
        "#drive.mount('/content/drive')"
      ],
      "execution_count": null,
      "outputs": []
    },
    {
      "cell_type": "code",
      "metadata": {
        "colab": {
          "base_uri": "https://localhost:8080/",
          "height": 1000
        },
        "id": "PpQ06GDjsdh1",
        "outputId": "b9574d9e-6628-42ca-fafc-b164b1945e1c"
      },
      "source": [
        "path_to_images_folder = '/content/drive/MyDrive/Prediction'\n",
        "prediction(path_to_images_folder)"
      ],
      "execution_count": null,
      "outputs": [
        {
          "output_type": "stream",
          "text": [
            "29  Images found\n",
            "Model found\n",
            "Helper functions file found\n",
            "the predicted label for image  /content/drive/MyDrive/Prediction/LY_3530.jpg  is  ['platelet'] with  [22.08415312]  probability \n",
            "the predicted label for image  /content/drive/MyDrive/Prediction/LY_6217.jpg  is  ['platelet'] with  [22.20484793]  probability \n",
            "the predicted label for image  /content/drive/MyDrive/Prediction/MO_2893.jpg  is  ['platelet'] with  [24.44894367]  probability \n",
            "the predicted label for image  /content/drive/MyDrive/Prediction/BNE_715.jpg  is  ['platelet'] with  [22.22192696]  probability \n",
            "the predicted label for image  /content/drive/MyDrive/Prediction/EO_708.jpg  is  ['neutrophil'] with  [23.95639452]  probability \n",
            "the predicted label for image  /content/drive/MyDrive/Prediction/MO_4232.jpg  is  ['platelet'] with  [21.78444208]  probability \n",
            "the predicted label for image  /content/drive/MyDrive/Prediction/BNE_2506.jpg  is  ['platelet'] with  [21.50283805]  probability \n",
            "the predicted label for image  /content/drive/MyDrive/Prediction/BNE_840.jpg  is  ['platelet'] with  [27.80426935]  probability \n",
            "the predicted label for image  /content/drive/MyDrive/Prediction/EO_442.jpg  is  ['platelet'] with  [29.06166967]  probability \n",
            "the predicted label for image  /content/drive/MyDrive/Prediction/ERB_493.jpg  is  ['platelet'] with  [21.96692119]  probability \n",
            "the predicted label for image  /content/drive/MyDrive/Prediction/EO_27.jpg  is  ['platelet'] with  [33.65071716]  probability \n",
            "the predicted label for image  /content/drive/MyDrive/Prediction/IG_78575.jpg  is  ['platelet'] with  [39.10333338]  probability \n",
            "the predicted label for image  /content/drive/MyDrive/Prediction/IG_28760.jpg  is  ['platelet'] with  [25.90478404]  probability \n",
            "the predicted label for image  /content/drive/MyDrive/Prediction/IG_60755.jpg  is  ['platelet'] with  [26.43939678]  probability \n",
            "the predicted label for image  /content/drive/MyDrive/Prediction/IG_67523.jpg  is  ['platelet'] with  [28.9753315]  probability \n",
            "the predicted label for image  /content/drive/MyDrive/Prediction/BA_2862.jpg  is  ['platelet'] with  [32.03804559]  probability \n",
            "the predicted label for image  /content/drive/MyDrive/Prediction/PLATELET_344.jpg  is  ['platelet'] with  [19.35410144]  probability \n",
            "the predicted label for image  /content/drive/MyDrive/Prediction/IG_5887.jpg  is  ['platelet'] with  [27.21438505]  probability \n",
            "the predicted label for image  /content/drive/MyDrive/Prediction/PLATELET_597.jpg  is  ['platelet'] with  [19.29885188]  probability \n",
            "the predicted label for image  /content/drive/MyDrive/Prediction/LY_4757.jpg  is  ['platelet'] with  [19.27387675]  probability \n",
            "the predicted label for image  /content/drive/MyDrive/Prediction/BNE_2234.jpg  is  ['platelet'] with  [18.56211694]  probability \n",
            "the predicted label for image  /content/drive/MyDrive/Prediction/EO_910.jpg  is  ['platelet'] with  [21.31086161]  probability \n",
            "the predicted label for image  /content/drive/MyDrive/Prediction/ERB_685.jpg  is  ['platelet'] with  [32.12764883]  probability \n",
            "the predicted label for image  /content/drive/MyDrive/Prediction/IG_57061.jpg  is  ['platelet'] with  [29.36940418]  probability \n",
            "the predicted label for image  /content/drive/MyDrive/Prediction/BA_1223.jpg  is  ['platelet'] with  [26.54866329]  probability \n",
            "the predicted label for image  /content/drive/MyDrive/Prediction/BA_47.jpg  is  ['platelet'] with  [25.46450853]  probability \n",
            "the predicted label for image  /content/drive/MyDrive/Prediction/MO_2221.jpg  is  ['platelet'] with  [49.40499351]  probability \n",
            "the predicted label for image  /content/drive/MyDrive/Prediction/ERB_2429.jpg  is  ['platelet'] with  [21.62907023]  probability \n",
            "the predicted label for image  /content/drive/MyDrive/Prediction/PLATELET_2561.jpg  is  ['platelet'] with  [17.40554361]  probability \n"
          ],
          "name": "stdout"
        },
        {
          "output_type": "display_data",
          "data": {
            "image/png": "[encoded data removed]",
            "text/plain": [
              "<Figure size 432x288 with 12 Axes>"
            ]
          },
          "metadata": {
            "tags": [],
            "needs_background": "light"
          }
        },
        {
          "output_type": "display_data",
          "data": {
            "image/png": "[encoded data removed]",
            "text/plain": [
              "<Figure size 432x288 with 32 Axes>"
            ]
          },
          "metadata": {
            "tags": [],
            "needs_background": "light"
          }
        }
      ]
    }
  ]
}